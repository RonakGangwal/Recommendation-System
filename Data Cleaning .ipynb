{
 "cells": [
  {
   "cell_type": "markdown",
   "metadata": {},
   "source": [
    "# Santander Product Recommendation Data Cleaning"
   ]
  },
  {
   "cell_type": "markdown",
   "metadata": {},
   "source": [
    "We have shown the EDA of the dataset in previous notebook. To recollect, you can visit the link- "
   ]
  },
  {
   "cell_type": "markdown",
   "metadata": {},
   "source": [
    "### Conclusions from EDA for Data Cleaning- \n",
    "\n",
    "* In the data, we have a mix of categorical, numerical and ordinal variables.\n",
    "\n",
    "      We have also seen that a few Variables have different data type in train and test data-\n",
    "\n",
    "       * age(object - int)\n",
    "       * antiguedad(object - int)\n",
    "       * indrel_1mes(object - int)\n",
    "       * renta(float-object)\n",
    "\n",
    "* Maximum customers who have their last date as primary customer with the bank(ult_fec_cli_1t value is not NULL) are mostly left out for recommendation. Bank does not wants to recommend them any product. So, we can drop this column.\n",
    "\n",
    "* Only for a single customer, we had conyuemp=1. We can also drop this column.\n",
    "* For all the customers, we have tipodom =1. It is not a distinguishing feature. It can also be dropped.\n",
    "\n",
    " \n",
    "* Outliers are present in age, antiguedad and renta. So, they have to be treated by binning. We know that log transformation gave a normal distribution of renta.\n",
    " \n",
    "* The count for ahor, aval, deco, cder is so less that we can exclude them from our products and need not take them into account for recommendations\n",
    "\n",
    "indrel_1mes and tiprel_1mes were correlated-\n",
    "\n",
    "* Primary(1) and Co-owner(2) in indrel_1mes implied Active(A) and Inactive(I) customers in tiprel_1mes.\n",
    "* Former-primary(3) and Former co-owner(4) implied former customers(P) in tiprel_1mes.\n",
    "\n",
    "If a customer is not a primary customer(indrel=99) at the end of the month, then he starts dropping products(we have observed it for cco and ecue).\n",
    "\n",
    "These can be used in feature engineering.\n",
    "\n"
   ]
  },
  {
   "cell_type": "markdown",
   "metadata": {},
   "source": [
    "## Data Cleaning of Santander Product Recommendation dataset\n",
    "\n",
    "Now, that we understood the dataset in detail. It is time for us to clean the data.\n",
    "\n",
    "In this notebook, we are going to focus on two things-\n",
    "* Missing Values Treatment\n",
    "* Feature Engineering\n"
   ]
  },
  {
   "cell_type": "markdown",
   "metadata": {},
   "source": [
    "### Loading Packages"
   ]
  },
  {
   "cell_type": "code",
   "execution_count": 33,
   "metadata": {},
   "outputs": [],
   "source": [
    "#importing libraries\n",
    "\n",
    "import pandas as pd\n",
    "import numpy as np\n",
    "import seaborn as sns\n",
    "sns.set(style=\"whitegrid\")\n",
    "import matplotlib.pyplot as plt\n",
    "%matplotlib inline\n",
    "from tqdm import tqdm_notebook as tqdm\n",
    "from IPython.display import display\n",
    "pd.options.display.max_columns = None\n",
    "import datetime\n",
    "import warnings                               # To ignore any warnings \n",
    "warnings.filterwarnings(\"ignore\")"
   ]
  },
  {
   "cell_type": "markdown",
   "metadata": {},
   "source": [
    "### Loading Train and Test Data"
   ]
  },
  {
   "cell_type": "code",
   "execution_count": 69,
   "metadata": {
    "scrolled": false
   },
   "outputs": [],
   "source": [
    "train=pd.read_csv('train_ver2.csv')           # Loading train and test datasets\n",
    "test=pd.read_csv('test_ver2.csv')          "
   ]
  },
  {
   "cell_type": "code",
   "execution_count": 70,
   "metadata": {},
   "outputs": [],
   "source": [
    "train_or=train.copy()                         # making a copy of train and test data.\n",
    "test_or=test.copy()                          "
   ]
  },
  {
   "cell_type": "code",
   "execution_count": 4,
   "metadata": {
    "scrolled": true
   },
   "outputs": [
    {
     "data": {
      "text/plain": [
       "fecha_dato                object\n",
       "ncodpers                   int64\n",
       "ind_empleado              object\n",
       "pais_residencia           object\n",
       "sexo                      object\n",
       "age                       object\n",
       "fecha_alta                object\n",
       "ind_nuevo                float64\n",
       "antiguedad                object\n",
       "indrel                   float64\n",
       "ult_fec_cli_1t            object\n",
       "indrel_1mes               object\n",
       "tiprel_1mes               object\n",
       "indresi                   object\n",
       "indext                    object\n",
       "conyuemp                  object\n",
       "canal_entrada             object\n",
       "indfall                   object\n",
       "tipodom                  float64\n",
       "cod_prov                 float64\n",
       "nomprov                   object\n",
       "ind_actividad_cliente    float64\n",
       "renta                    float64\n",
       "segmento                  object\n",
       "ind_ahor_fin_ult1          int64\n",
       "ind_aval_fin_ult1          int64\n",
       "ind_cco_fin_ult1           int64\n",
       "ind_cder_fin_ult1          int64\n",
       "ind_cno_fin_ult1           int64\n",
       "ind_ctju_fin_ult1          int64\n",
       "ind_ctma_fin_ult1          int64\n",
       "ind_ctop_fin_ult1          int64\n",
       "ind_ctpp_fin_ult1          int64\n",
       "ind_deco_fin_ult1          int64\n",
       "ind_deme_fin_ult1          int64\n",
       "ind_dela_fin_ult1          int64\n",
       "ind_ecue_fin_ult1          int64\n",
       "ind_fond_fin_ult1          int64\n",
       "ind_hip_fin_ult1           int64\n",
       "ind_plan_fin_ult1          int64\n",
       "ind_pres_fin_ult1          int64\n",
       "ind_reca_fin_ult1          int64\n",
       "ind_tjcr_fin_ult1          int64\n",
       "ind_valo_fin_ult1          int64\n",
       "ind_viv_fin_ult1           int64\n",
       "ind_nomina_ult1          float64\n",
       "ind_nom_pens_ult1        float64\n",
       "ind_recibo_ult1            int64\n",
       "dtype: object"
      ]
     },
     "execution_count": 4,
     "metadata": {},
     "output_type": "execute_result"
    }
   ],
   "source": [
    "train.dtypes                                            # gives datatype of each feature in train dataset"
   ]
  },
  {
   "cell_type": "code",
   "execution_count": 5,
   "metadata": {
    "scrolled": true
   },
   "outputs": [
    {
     "data": {
      "text/plain": [
       "fecha_dato                object\n",
       "ncodpers                   int64\n",
       "ind_empleado              object\n",
       "pais_residencia           object\n",
       "sexo                      object\n",
       "age                        int64\n",
       "fecha_alta                object\n",
       "ind_nuevo                  int64\n",
       "antiguedad                 int64\n",
       "indrel                     int64\n",
       "ult_fec_cli_1t            object\n",
       "indrel_1mes              float64\n",
       "tiprel_1mes               object\n",
       "indresi                   object\n",
       "indext                    object\n",
       "conyuemp                  object\n",
       "canal_entrada             object\n",
       "indfall                   object\n",
       "tipodom                    int64\n",
       "cod_prov                 float64\n",
       "nomprov                   object\n",
       "ind_actividad_cliente      int64\n",
       "renta                     object\n",
       "segmento                  object\n",
       "dtype: object"
      ]
     },
     "execution_count": 5,
     "metadata": {},
     "output_type": "execute_result"
    }
   ],
   "source": [
    "test.dtypes                                     # gives datatype of each feature in test dataset"
   ]
  },
  {
   "cell_type": "markdown",
   "metadata": {},
   "source": [
    "# Data Cleaning"
   ]
  },
  {
   "cell_type": "markdown",
   "metadata": {},
   "source": [
    "### Missing Values Treatment"
   ]
  },
  {
   "cell_type": "code",
   "execution_count": 53,
   "metadata": {
    "scrolled": true
   },
   "outputs": [
    {
     "data": {
      "text/plain": [
       "fecha_dato                      0\n",
       "ncodpers                        0\n",
       "ind_empleado                27734\n",
       "pais_residencia             27734\n",
       "sexo                        27804\n",
       "age                             0\n",
       "fecha_alta                  27734\n",
       "ind_nuevo                   27734\n",
       "antiguedad                      0\n",
       "indrel                      27734\n",
       "ult_fec_cli_1t           13622516\n",
       "indrel_1mes                149781\n",
       "tiprel_1mes                149781\n",
       "indresi                     27734\n",
       "indext                      27734\n",
       "conyuemp                 13645501\n",
       "canal_entrada              186126\n",
       "indfall                     27734\n",
       "tipodom                     27735\n",
       "cod_prov                    93591\n",
       "nomprov                     93591\n",
       "ind_actividad_cliente       27734\n",
       "renta                     2794375\n",
       "segmento                   189368\n",
       "ind_ahor_fin_ult1               0\n",
       "ind_aval_fin_ult1               0\n",
       "ind_cco_fin_ult1                0\n",
       "ind_cder_fin_ult1               0\n",
       "ind_cno_fin_ult1                0\n",
       "ind_ctju_fin_ult1               0\n",
       "ind_ctma_fin_ult1               0\n",
       "ind_ctop_fin_ult1               0\n",
       "ind_ctpp_fin_ult1               0\n",
       "ind_deco_fin_ult1               0\n",
       "ind_deme_fin_ult1               0\n",
       "ind_dela_fin_ult1               0\n",
       "ind_ecue_fin_ult1               0\n",
       "ind_fond_fin_ult1               0\n",
       "ind_hip_fin_ult1                0\n",
       "ind_plan_fin_ult1               0\n",
       "ind_pres_fin_ult1               0\n",
       "ind_reca_fin_ult1               0\n",
       "ind_tjcr_fin_ult1               0\n",
       "ind_valo_fin_ult1               0\n",
       "ind_viv_fin_ult1                0\n",
       "ind_nomina_ult1             16063\n",
       "ind_nom_pens_ult1           16063\n",
       "ind_recibo_ult1                 0\n",
       "dtype: int64"
      ]
     },
     "execution_count": 53,
     "metadata": {},
     "output_type": "execute_result"
    }
   ],
   "source": [
    "train.isnull().sum()"
   ]
  },
  {
   "cell_type": "code",
   "execution_count": 4,
   "metadata": {
    "scrolled": true
   },
   "outputs": [
    {
     "data": {
      "text/plain": [
       "fecha_dato                    0\n",
       "ncodpers                      0\n",
       "ind_empleado                  0\n",
       "pais_residencia               0\n",
       "sexo                          5\n",
       "age                           0\n",
       "fecha_alta                    0\n",
       "ind_nuevo                     0\n",
       "antiguedad                    0\n",
       "indrel                        0\n",
       "ult_fec_cli_1t           927932\n",
       "indrel_1mes                  23\n",
       "tiprel_1mes                  23\n",
       "indresi                       0\n",
       "indext                        0\n",
       "conyuemp                 929511\n",
       "canal_entrada              2081\n",
       "indfall                       0\n",
       "tipodom                       0\n",
       "cod_prov                   3996\n",
       "nomprov                    3996\n",
       "ind_actividad_cliente         0\n",
       "renta                         0\n",
       "segmento                   2248\n",
       "dtype: int64"
      ]
     },
     "execution_count": 4,
     "metadata": {},
     "output_type": "execute_result"
    }
   ],
   "source": [
    "test.isnull().sum()"
   ]
  },
  {
   "cell_type": "markdown",
   "metadata": {},
   "source": [
    "* We can see that most of the features in train data have same number of missing values i.e. 27734. But we are not going to drop these missing values as we will loose our data. Instead, a better way is to  impute them.\n",
    "* Features like conyuemp and ult_fec_cli_1t have almost all the values missing. So, they can be removed from both train and test data.\n",
    "\n",
    "Missing value variables can be broken down into three categories:\n",
    "\n",
    "* Missing data for categorical variables: We either impute the mode, as the missing variables are a small subset of the total data, or set to a new 'missing' level if this will imbalance the factor classes.\n",
    "* Missing data for numerical variables: we can use a more granular imputation, by setting the missing value equal to the average for each province.\n",
    "* Missing data for product variables: Two products ind_nomina_ult1 and ind_nom_pens_ult1 have missing values. So, we can set their ownership status to 0."
   ]
  },
  {
   "cell_type": "markdown",
   "metadata": {},
   "source": [
    "### Imputing train and test data"
   ]
  },
  {
   "cell_type": "markdown",
   "metadata": {},
   "source": [
    "#### Categorical Variables - Mode Imputation"
   ]
  },
  {
   "cell_type": "code",
   "execution_count": 71,
   "metadata": {},
   "outputs": [],
   "source": [
    "# For train data\n",
    "\n",
    "train['ind_empleado'].fillna(train['ind_empleado'].mode()[0], inplace=True) \n",
    "train['pais_residencia'].fillna(train['pais_residencia'].mode()[0], inplace=True) \n",
    "train['sexo'].fillna(train['sexo'].mode()[0], inplace=True) \n",
    "\n",
    "train['ind_nuevo'].fillna(train['ind_nuevo'].mode()[0], inplace=True)\n",
    "train['indrel'].fillna(train['indrel'].mode()[0], inplace=True)\n",
    "train['indrel_1mes'].fillna(train['indrel_1mes'].mode()[0], inplace=True) \n",
    "train['tiprel_1mes'].fillna(train['tiprel_1mes'].mode()[0], inplace=True) \n",
    "\n",
    "train['indresi'].fillna(train['indresi'].mode()[0], inplace=True) \n",
    "train['indext'].fillna(train['indext'].mode()[0], inplace=True) \n",
    "\n",
    "train['canal_entrada'].fillna(train['canal_entrada'].mode()[0], inplace=True) \n",
    "train['indfall'].fillna(train['indfall'].mode()[0], inplace=True)\n",
    "\n",
    "train['cod_prov'].fillna(train['cod_prov'].mode()[0], inplace=True)         \n",
    "train['nomprov'].fillna(train['nomprov'].mode()[0], inplace=True)\n",
    "\n",
    "train['ind_actividad_cliente'].fillna(train['ind_actividad_cliente'].mode()[0], inplace=True)\n",
    "\n",
    "train['segmento'].fillna(train['segmento'].mode()[0], inplace=True)\n",
    "\n",
    "# For test data\n",
    "\n",
    "test['sexo'].fillna(test['sexo'].mode()[0], inplace=True)\n",
    "test['cod_prov'].fillna(test['cod_prov'].mode()[0], inplace=True)\n",
    "test['nomprov'].fillna(test['nomprov'].mode()[0], inplace=True)\n",
    "test.loc[test['indrel_1mes'].isnull(), 'indrel_1mes'] = '1'\n",
    "test.loc[test['tiprel_1mes'].isnull(), 'tiprel_1mes'] = 'I'\n",
    "test['segmento'].fillna(test['segmento'].mode()[0], inplace=True)\n",
    "test['canal_entrada'].fillna(test['canal_entrada'].mode()[0], inplace=True) "
   ]
  },
  {
   "cell_type": "markdown",
   "metadata": {},
   "source": [
    "#### Numerical Variables - Imputing mean for each Province"
   ]
  },
  {
   "cell_type": "code",
   "execution_count": 72,
   "metadata": {},
   "outputs": [],
   "source": [
    "# For train data\n",
    "\n",
    "train.age = pd.to_numeric(train.age, errors='coerce')                        # Changing their data type from object to int\n",
    "train.antiguedad = pd.to_numeric(train.antiguedad, errors='coerce')  \n",
    "\n",
    "\n",
    "train[\"age\"] = train[['age','cod_prov']].groupby(\"cod_prov\").transform(lambda x: x.fillna(x.mean()))                 #Replace age with provincial mean\n",
    "train[\"antiguedad\"] = train[['antiguedad','cod_prov']].groupby(\"cod_prov\").transform(lambda x: x.fillna(x.mean()))   #Replace antiguedad with provincial mean\n",
    "train[\"renta\"] = train[['renta','cod_prov']].groupby(\"cod_prov\").transform(lambda x: x.fillna(x.mean()))             #Replace renta with provincial mean\n",
    "\n",
    "\n",
    "# For test data\n",
    "\n",
    "test.renta = pd.to_numeric(test.renta, errors='coerce')\n",
    "\n",
    "test[\"renta\"] = test[['renta','cod_prov']].groupby(\"cod_prov\").transform(lambda x: x.fillna(x.mean()))          #Replace renta with provincial mean"
   ]
  },
  {
   "cell_type": "markdown",
   "metadata": {},
   "source": [
    "#### Imputing missing values in Products"
   ]
  },
  {
   "cell_type": "code",
   "execution_count": 73,
   "metadata": {},
   "outputs": [],
   "source": [
    "train.loc[train['ind_nomina_ult1'].isnull(), 'ind_nomina_ult1'] = 0\n",
    "train.loc[train['ind_nom_pens_ult1'].isnull(), 'ind_nom_pens_ult1'] = 0"
   ]
  },
  {
   "cell_type": "markdown",
   "metadata": {},
   "source": [
    "#### Dropping the undesired columns"
   ]
  },
  {
   "cell_type": "code",
   "execution_count": 74,
   "metadata": {},
   "outputs": [],
   "source": [
    "train=train.drop(['ult_fec_cli_1t','conyuemp','tipodom','fecha_alta'],axis=1)\n",
    "test=test.drop(['ult_fec_cli_1t','conyuemp','tipodom','fecha_alta'],axis=1)"
   ]
  },
  {
   "cell_type": "code",
   "execution_count": 8,
   "metadata": {
    "scrolled": true
   },
   "outputs": [
    {
     "data": {
      "text/plain": [
       "fecha_dato               0\n",
       "ncodpers                 0\n",
       "ind_empleado             0\n",
       "pais_residencia          0\n",
       "sexo                     0\n",
       "age                      0\n",
       "ind_nuevo                0\n",
       "antiguedad               0\n",
       "indrel                   0\n",
       "indrel_1mes              0\n",
       "tiprel_1mes              0\n",
       "indresi                  0\n",
       "indext                   0\n",
       "canal_entrada            0\n",
       "indfall                  0\n",
       "cod_prov                 0\n",
       "nomprov                  0\n",
       "ind_actividad_cliente    0\n",
       "renta                    0\n",
       "segmento                 0\n",
       "ind_ahor_fin_ult1        0\n",
       "ind_aval_fin_ult1        0\n",
       "ind_cco_fin_ult1         0\n",
       "ind_cder_fin_ult1        0\n",
       "ind_cno_fin_ult1         0\n",
       "ind_ctju_fin_ult1        0\n",
       "ind_ctma_fin_ult1        0\n",
       "ind_ctop_fin_ult1        0\n",
       "ind_ctpp_fin_ult1        0\n",
       "ind_deco_fin_ult1        0\n",
       "ind_deme_fin_ult1        0\n",
       "ind_dela_fin_ult1        0\n",
       "ind_ecue_fin_ult1        0\n",
       "ind_fond_fin_ult1        0\n",
       "ind_hip_fin_ult1         0\n",
       "ind_plan_fin_ult1        0\n",
       "ind_pres_fin_ult1        0\n",
       "ind_reca_fin_ult1        0\n",
       "ind_tjcr_fin_ult1        0\n",
       "ind_valo_fin_ult1        0\n",
       "ind_viv_fin_ult1         0\n",
       "ind_nomina_ult1          0\n",
       "ind_nom_pens_ult1        0\n",
       "ind_recibo_ult1          0\n",
       "dtype: int64"
      ]
     },
     "execution_count": 8,
     "metadata": {},
     "output_type": "execute_result"
    }
   ],
   "source": [
    "train.isnull().sum()"
   ]
  },
  {
   "cell_type": "code",
   "execution_count": 9,
   "metadata": {
    "scrolled": true
   },
   "outputs": [
    {
     "data": {
      "text/plain": [
       "fecha_dato               0\n",
       "ncodpers                 0\n",
       "ind_empleado             0\n",
       "pais_residencia          0\n",
       "sexo                     0\n",
       "age                      0\n",
       "ind_nuevo                0\n",
       "antiguedad               0\n",
       "indrel                   0\n",
       "indrel_1mes              0\n",
       "tiprel_1mes              0\n",
       "indresi                  0\n",
       "indext                   0\n",
       "canal_entrada            0\n",
       "indfall                  0\n",
       "cod_prov                 0\n",
       "nomprov                  0\n",
       "ind_actividad_cliente    0\n",
       "renta                    0\n",
       "segmento                 0\n",
       "dtype: int64"
      ]
     },
     "execution_count": 9,
     "metadata": {},
     "output_type": "execute_result"
    }
   ],
   "source": [
    "test.isnull().sum()"
   ]
  },
  {
   "cell_type": "markdown",
   "metadata": {},
   "source": [
    "Now, we have imputed all the missing values and removed all the undesired columns from both train and test data."
   ]
  },
  {
   "cell_type": "markdown",
   "metadata": {},
   "source": [
    "Now, the next step is to treat the outliers present in numerical variables. We will do this by creating bins. We will create bins in the same way as we had done in the EDA."
   ]
  },
  {
   "cell_type": "markdown",
   "metadata": {},
   "source": [
    "### Outlier Treatment\n",
    "\n",
    "#### Age"
   ]
  },
  {
   "cell_type": "code",
   "execution_count": 150,
   "metadata": {},
   "outputs": [
    {
     "data": {
      "text/plain": [
       "count    1.364731e+07\n",
       "mean     4.019258e+01\n",
       "std      1.716938e+01\n",
       "min      2.000000e+00\n",
       "25%      2.400000e+01\n",
       "50%      3.900000e+01\n",
       "75%      5.000000e+01\n",
       "max      1.640000e+02\n",
       "Name: age, dtype: float64"
      ]
     },
     "execution_count": 150,
     "metadata": {},
     "output_type": "execute_result"
    }
   ],
   "source": [
    "train.age.describe()"
   ]
  },
  {
   "cell_type": "code",
   "execution_count": 75,
   "metadata": {
    "scrolled": true
   },
   "outputs": [],
   "source": [
    "bins=[0,19,60,200] \n",
    "group=['teen','working','old']  \n",
    "\n",
    "train['age']=pd.cut(train['age'],bins,labels=group)\n",
    "test['age']=pd.cut(test['age'],bins,labels=group)"
   ]
  },
  {
   "cell_type": "markdown",
   "metadata": {},
   "source": [
    "#### Antiguedad"
   ]
  },
  {
   "cell_type": "code",
   "execution_count": 41,
   "metadata": {},
   "outputs": [
    {
     "data": {
      "text/plain": [
       "count    1.364731e+07\n",
       "mean     7.663323e+01\n",
       "std      1.670107e+03\n",
       "min     -9.999990e+05\n",
       "25%      2.300000e+01\n",
       "50%      5.000000e+01\n",
       "75%      1.350000e+02\n",
       "max      2.560000e+02\n",
       "Name: antiguedad, dtype: float64"
      ]
     },
     "execution_count": 41,
     "metadata": {},
     "output_type": "execute_result"
    }
   ],
   "source": [
    "train.antiguedad.describe()"
   ]
  },
  {
   "cell_type": "code",
   "execution_count": 76,
   "metadata": {
    "scrolled": true
   },
   "outputs": [],
   "source": [
    "train.antiguedad[train.antiguedad<0] =0                                   # Removing -999999\n",
    "test.antiguedad[test.antiguedad<0] =0"
   ]
  },
  {
   "cell_type": "code",
   "execution_count": 77,
   "metadata": {},
   "outputs": [],
   "source": [
    "bins=[-1,17,66,500] \n",
    "group=['new','medium','senior']  \n",
    "\n",
    "train['antiguedad']=pd.cut(train['antiguedad'],bins,labels=group)\n",
    "test['antiguedad']=pd.cut(test['antiguedad'],bins,labels=group)"
   ]
  },
  {
   "cell_type": "markdown",
   "metadata": {},
   "source": [
    "#### Renta"
   ]
  },
  {
   "cell_type": "code",
   "execution_count": 78,
   "metadata": {},
   "outputs": [],
   "source": [
    "train[\"renta\"] = np.log(train[\"renta\"])\n",
    "test[\"renta\"] = np.log(test[\"renta\"])"
   ]
  },
  {
   "cell_type": "code",
   "execution_count": 45,
   "metadata": {},
   "outputs": [
    {
     "data": {
      "text/plain": [
       "count    1.364731e+07\n",
       "mean     1.158806e+01\n",
       "std      5.848313e-01\n",
       "min      7.092349e+00\n",
       "25%      1.123011e+01\n",
       "50%      1.156680e+01\n",
       "75%      1.198557e+01\n",
       "max      1.717916e+01\n",
       "Name: renta, dtype: float64"
      ]
     },
     "execution_count": 45,
     "metadata": {},
     "output_type": "execute_result"
    }
   ],
   "source": [
    "train.renta.describe()"
   ]
  },
  {
   "cell_type": "code",
   "execution_count": 79,
   "metadata": {},
   "outputs": [],
   "source": [
    "bins = [0,10,12,19]\n",
    "group=['poor','medium','rich']\n",
    "\n",
    "train['renta'] = pd.cut(train.renta,bins=bins,labels=group)\n",
    "test['renta'] = pd.cut(test.renta,bins=bins,labels=group)"
   ]
  },
  {
   "cell_type": "markdown",
   "metadata": {},
   "source": [
    "#### Indrel_1mes"
   ]
  },
  {
   "cell_type": "code",
   "execution_count": 80,
   "metadata": {},
   "outputs": [],
   "source": [
    "train.indrel_1mes=train.indrel_1mes.replace('P',0)                    # potential customer = 0\n",
    "train.indrel_1mes=pd.to_numeric(train['indrel_1mes'],errors='coerce')\n",
    "\n",
    "test.indrel_1mes=test.indrel_1mes.replace('P',0)                      # potential customer = 0\n",
    "test.indrel_1mes=pd.to_numeric(test['indrel_1mes'],errors='coerce')"
   ]
  },
  {
   "cell_type": "markdown",
   "metadata": {},
   "source": [
    "#### Pais_residenica"
   ]
  },
  {
   "cell_type": "code",
   "execution_count": 81,
   "metadata": {},
   "outputs": [],
   "source": [
    "li=['ES']\n",
    "\n",
    "er=train[train['pais_residencia'].isin(li)]\n",
    "q=train[~train['pais_residencia'].isin(li)]\n",
    "\n",
    "er1=test[test['pais_residencia'].isin(li)]\n",
    "q1=test[~test['pais_residencia'].isin(li)]\n",
    "\n",
    "\n",
    "q['pais_residencia']='others'\n",
    "q1['pais_residencia']='others'\n",
    "\n",
    "train=er.append(q)\n",
    "test=er1.append(q1)"
   ]
  },
  {
   "cell_type": "markdown",
   "metadata": {},
   "source": [
    "#### Canal_entrada"
   ]
  },
  {
   "cell_type": "code",
   "execution_count": 83,
   "metadata": {},
   "outputs": [],
   "source": [
    "li=['KAT','KHE','KFC']\n",
    "\n",
    "er=train[train['canal_entrada'].isin(li)]\n",
    "q=train[~train['canal_entrada'].isin(li)]\n",
    "\n",
    "er1=test[test['canal_entrada'].isin(li)]\n",
    "q1=test[~test['canal_entrada'].isin(li)]\n",
    "\n",
    "\n",
    "q['canal_entrada']='others'\n",
    "q1['canal_entrada']='others'\n",
    "\n",
    "train=er.append(q)\n",
    "test=er1.append(q1)"
   ]
  },
  {
   "cell_type": "code",
   "execution_count": 84,
   "metadata": {},
   "outputs": [
    {
     "data": {
      "text/plain": [
       "((13647309, 44), (929615, 20))"
      ]
     },
     "execution_count": 84,
     "metadata": {},
     "output_type": "execute_result"
    }
   ],
   "source": [
    "train.shape, test.shape"
   ]
  },
  {
   "cell_type": "code",
   "execution_count": null,
   "metadata": {},
   "outputs": [],
   "source": []
  },
  {
   "cell_type": "markdown",
   "metadata": {},
   "source": [
    "#### Nomprov"
   ]
  },
  {
   "cell_type": "code",
   "execution_count": 85,
   "metadata": {},
   "outputs": [],
   "source": [
    "li=['MADRID',' BARCELONA','VALENCIA','SEVILLA']\n",
    "\n",
    "er=train[train['nomprov'].isin(li)]\n",
    "q=train[~train['nomprov'].isin(li)]\n",
    "\n",
    "er1=test[test['nomprov'].isin(li)]\n",
    "q1=test[~test['nomprov'].isin(li)]\n",
    "\n",
    "\n",
    "q['nomprov']='others'\n",
    "q1['nomprov']='others'\n",
    "\n",
    "train=er.append(q)\n",
    "test=er1.append(q1)"
   ]
  },
  {
   "cell_type": "markdown",
   "metadata": {},
   "source": [
    "#### Removing the least popular products"
   ]
  },
  {
   "cell_type": "code",
   "execution_count": 89,
   "metadata": {},
   "outputs": [],
   "source": [
    "train=train.drop(['ind_ahor_fin_ult1','ind_aval_fin_ult1','ind_cder_fin_ult1','ind_deco_fin_ult1'],axis=1)"
   ]
  },
  {
   "cell_type": "markdown",
   "metadata": {},
   "source": [
    "#### Downloading the cleaned files"
   ]
  },
  {
   "cell_type": "code",
   "execution_count": 90,
   "metadata": {},
   "outputs": [],
   "source": [
    "train.to_csv('train_final.csv')\n",
    "\n",
    "test.to_csv('test_final.csv')"
   ]
  },
  {
   "cell_type": "markdown",
   "metadata": {},
   "source": [
    "We will be using these files for Model Building."
   ]
  }
 ],
 "metadata": {
  "kernelspec": {
   "display_name": "Python 2",
   "language": "python",
   "name": "python2"
  },
  "language_info": {
   "codemirror_mode": {
    "name": "ipython",
    "version": 2
   },
   "file_extension": ".py",
   "mimetype": "text/x-python",
   "name": "python",
   "nbconvert_exporter": "python",
   "pygments_lexer": "ipython2",
   "version": "2.7.12"
  }
 },
 "nbformat": 4,
 "nbformat_minor": 2
}
